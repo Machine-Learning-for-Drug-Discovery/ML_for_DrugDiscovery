{
 "cells": [
  {
   "cell_type": "markdown",
   "metadata": {},
   "source": [
    "# **Chapter 2: Feature engineering in computational chemistry**\n",
    "## *Data representation matters.*\n",
    "\n",
    "In this notebook, we will demonstrate the importance of data representation to model accuracy. \n",
    "\n",
    "We will use a small, balanced dataset of 8-residue amino acid sequences from the [MEROPS Peptidase Database](https://www.ebi.ac.uk/merops/) (*n* = 4000). These amino acid sequences are peptidase cleavage sites and non-cleavage sites. Each site has 4 residues flanking either side. The **labels** indicate whether an observation is a cleavage site (1) or not (0). The **features** are encoded by 5 disparate methods:\n",
    "\n",
    "1. One-hot encoding, where each residue is represented by a zero-vector with a single 1 at a unique index assigned to the given amino acid.\n",
    "2. Ordinal encoding, where each residue is represented by an integer assigned to the given amino acid.\n",
    "3. ProtFP ([Van Westen et al 2013](https://doi.org/10.1186/1758-2946-5-41)), which constructs artificial features from physicochemical descriptors using principal component analysis.\n",
    "4. Z-Scale ([Hellberg et al 1987](https://doi.org/10.1021/jm00390a003) / [Sandberg et al 1998](https://doi.org/10.1021/jm9700575)) which constructs artificial features from physicochemical descriptors using principal component analysis.\n",
    "5. UniRep ([Alley et al 2019](https://doi.org/10.1038/s41592-019-0598-1)), a learned representation produced by a recurrent neural network.\n",
    "\n",
    "As the results demonstrate, the optimal input representation can vary by algorithm and is not always the intuitive choice. Further, dimensionality does not necessarily correlate with accuracy."
   ]
  },
  {
   "cell_type": "markdown",
   "metadata": {},
   "source": [
    "*Analysis by Jacqueline R. M. A. Maasch | August 2021*"
   ]
  },
  {
   "cell_type": "markdown",
   "metadata": {},
   "source": [
    "## Table of contents\n",
    "\n",
    "* [Preamble](#Preamble)\n",
    "* [Define functions](#Define-functions)\n",
    "* [Read data](#Read-data)\n",
    "* [Train and test](#Train-and-test)\n",
    "    - [Random forest](#Random-forest)\n",
    "    - [Support vector machine](#Support-vector-machine)\n",
    "    - [K nearest neighbor](#K-nearest-neighbor)\n",
    "* [Interpretation](#Interpretation)"
   ]
  },
  {
   "cell_type": "markdown",
   "metadata": {},
   "source": [
    "## Preamble"
   ]
  },
  {
   "cell_type": "code",
   "execution_count": 1,
   "metadata": {},
   "outputs": [],
   "source": [
    "# Importations.\n",
    "import numpy as np\n",
    "import pandas as pd\n",
    "import time\n",
    "import matplotlib.pyplot as plt\n",
    "from ast import literal_eval\n",
    "from sklearn.model_selection import train_test_split\n",
    "from sklearn import preprocessing\n",
    "from sklearn.model_selection import cross_val_score\n",
    "from sklearn.ensemble import RandomForestClassifier\n",
    "from sklearn.svm import SVC\n",
    "from sklearn.neighbors import KNeighborsClassifier\n",
    "from sklearn import metrics\n",
    "\n",
    "# Set random state for reproducibility.\n",
    "seed = 500"
   ]
  },
  {
   "cell_type": "markdown",
   "metadata": {},
   "source": [
    "## Define functions\n",
    "\n",
    "Here we will define several convenience functions that will keep our code DRY."
   ]
  },
  {
   "cell_type": "code",
   "execution_count": 2,
   "metadata": {},
   "outputs": [],
   "source": [
    "def train_test(model, X, y, seed = 500, test_frac = 0.2):\n",
    "    \n",
    "    '''\n",
    "    This function wraps sklearn's train-test split, model fitting,\n",
    "    and prediction functionality.\n",
    "    \n",
    "    Parameters:\n",
    "        model: a sklearn model (e.g. KNeighborsClassifier()).\n",
    "        X: a dataframe column containing feature vectors.\n",
    "        y: a dataframe column containing labels.\n",
    "        seed (default = 500): random state seed as integer.\n",
    "        test_frac (default = 0.2): float indicated fraction to\n",
    "            set aside for the test set.\n",
    "    \n",
    "    Return:\n",
    "        acc: model accuracy as float.\n",
    "    '''\n",
    "    \n",
    "    # Perform train-test split (80% / 20%).\n",
    "    X = np.array(X.values.tolist())\n",
    "    y = np.array(y.values.tolist())\n",
    "    \n",
    "    X_train, X_test, y_train, y_test = train_test_split(X,\n",
    "                                                        y,\n",
    "                                                        test_size = test_frac,\n",
    "                                                        random_state = seed,\n",
    "                                                        stratify = y)\n",
    "\n",
    "    # Fit model to training set.\n",
    "    start_time = time.time()\n",
    "    model.fit(X_train, y_train)\n",
    "    print(\"\\nFit complete in {:0.2f} seconds.\".format(time.time() - start_time))\n",
    "\n",
    "    # Predict labels.\n",
    "    start_time = time.time()\n",
    "    y_pred = model.predict(X_test)\n",
    "    acc = metrics.accuracy_score(y_test, y_pred)\n",
    "    print(\"Prediction complete in {:0.2f} seconds.\".format(time.time() - start_time))\n",
    "    print(\"\\nAccuracy on test set = {:0.2f}%\".format(acc * 100))\n",
    "    \n",
    "    # Return model accuracy.\n",
    "    return acc\n",
    "    \n",
    "    \n",
    "def iter_reps(df, model, start_index = 2, label_index = 1):\n",
    "    \n",
    "    '''\n",
    "    This function iterates through data representations to fit sklearn\n",
    "    models and assess their accuracies.\n",
    "    \n",
    "    Parameters:\n",
    "        df: a pandas dataframe containing label and feature columns.\n",
    "        model: a sklearn model (e.g. KNeighborsClassifier()). \n",
    "        start_index (default = 2): column index of first data representation.\n",
    "        label_index (default = 1): column index of label column.\n",
    "    \n",
    "    Return:\n",
    "        acc_list: list of accuracies as floats.\n",
    "    '''\n",
    "    \n",
    "    # Init empty list to store accuracies.\n",
    "    acc_list = []\n",
    "    \n",
    "    # Iterate through representation columns to train and test models.\n",
    "    for i in range(start_index, len(df.columns)):\n",
    "    \n",
    "        print(\"\\n~~~~~~~~~~ {} ~~~~~~~~~~\".format(df.columns[i]))\n",
    "\n",
    "        X = df.iloc[:,i].apply(literal_eval)\n",
    "        y = df.iloc[:,label_index]\n",
    "        \n",
    "        print(\"\\nDimensions =\", len(X[0]))\n",
    "\n",
    "        acc = train_test(model, X, y)\n",
    "        acc_list.append(acc)\n",
    "        \n",
    "    # Return accuracy list.\n",
    "    return acc_list\n",
    "\n",
    "\n",
    "def plot_acc_by_dims(accuracies, dimensions = [8, 160, 64, 24, 64]):\n",
    "    \n",
    "    '''\n",
    "    This function plots the accuracy of each model by the dimensionality of\n",
    "    the data representation that it was trained on.\n",
    "    \n",
    "    Parameters:\n",
    "        accuracies: list-like structure containing accuracy per data\n",
    "            representation, as floats.\n",
    "        dimensions (default = [8, 160, 64, 24, 64]): list-like structure \n",
    "            containing dimensionality per representation, as integers.\n",
    "    \n",
    "    Return:\n",
    "        None.\n",
    "    '''\n",
    "    \n",
    "    plt.scatter(dimensions, accuracies)\n",
    "    plt.xlabel(\"\\nDimensions\")\n",
    "    plt.ylabel(\"Accuracy\\n\")\n",
    "    plt.show()"
   ]
  },
  {
   "cell_type": "markdown",
   "metadata": {},
   "source": [
    "## Read data"
   ]
  },
  {
   "cell_type": "code",
   "execution_count": 3,
   "metadata": {},
   "outputs": [],
   "source": [
    "# Read data file.\n",
    "df = pd.read_csv(\"input_rep_demo.csv\")"
   ]
  },
  {
   "cell_type": "code",
   "execution_count": 4,
   "metadata": {},
   "outputs": [
    {
     "data": {
      "text/html": [
       "<div>\n",
       "<style scoped>\n",
       "    .dataframe tbody tr th:only-of-type {\n",
       "        vertical-align: middle;\n",
       "    }\n",
       "\n",
       "    .dataframe tbody tr th {\n",
       "        vertical-align: top;\n",
       "    }\n",
       "\n",
       "    .dataframe thead th {\n",
       "        text-align: right;\n",
       "    }\n",
       "</style>\n",
       "<table border=\"1\" class=\"dataframe\">\n",
       "  <thead>\n",
       "    <tr style=\"text-align: right;\">\n",
       "      <th></th>\n",
       "      <th>Sequence</th>\n",
       "      <th>Label</th>\n",
       "      <th>Ordinal</th>\n",
       "      <th>One-hot</th>\n",
       "      <th>ProtFP</th>\n",
       "      <th>Z-Scale</th>\n",
       "      <th>UniRep</th>\n",
       "    </tr>\n",
       "  </thead>\n",
       "  <tbody>\n",
       "    <tr>\n",
       "      <th>0</th>\n",
       "      <td>IPFCGEID</td>\n",
       "      <td>1</td>\n",
       "      <td>[7, 12, 4, 1, 5, 3, 7, 2]</td>\n",
       "      <td>[0, 0, 0, 0, 0, 0, 0, 1, 0, 0, 0, 0, 0, 0, 0, ...</td>\n",
       "      <td>[6.58, -1.73, -2.49, 1.09, -0.34, -0.28, 1.97,...</td>\n",
       "      <td>[-4.44, -1.68, -1.03, -1.22, 0.88, 2.23, -4.92...</td>\n",
       "      <td>[-0.09122531861066818, 0.08572831749916077, 0....</td>\n",
       "    </tr>\n",
       "    <tr>\n",
       "      <th>1</th>\n",
       "      <td>LRDYFEEY</td>\n",
       "      <td>1</td>\n",
       "      <td>[9, 14, 2, 19, 4, 3, 3, 19]</td>\n",
       "      <td>[0, 0, 0, 0, 0, 0, 0, 0, 0, 1, 0, 0, 0, 0, 0, ...</td>\n",
       "      <td>[5.76, -1.33, -1.71, 0.63, -1.7, 0.71, -0.05, ...</td>\n",
       "      <td>[-4.19, -1.03, -0.98, 2.88, 2.52, -3.44, 3.64,...</td>\n",
       "      <td>[-0.1062292754650116, 0.09696033596992493, -0....</td>\n",
       "    </tr>\n",
       "  </tbody>\n",
       "</table>\n",
       "</div>"
      ],
      "text/plain": [
       "   Sequence  Label                      Ordinal  \\\n",
       "0  IPFCGEID      1    [7, 12, 4, 1, 5, 3, 7, 2]   \n",
       "1  LRDYFEEY      1  [9, 14, 2, 19, 4, 3, 3, 19]   \n",
       "\n",
       "                                             One-hot  \\\n",
       "0  [0, 0, 0, 0, 0, 0, 0, 1, 0, 0, 0, 0, 0, 0, 0, ...   \n",
       "1  [0, 0, 0, 0, 0, 0, 0, 0, 0, 1, 0, 0, 0, 0, 0, ...   \n",
       "\n",
       "                                              ProtFP  \\\n",
       "0  [6.58, -1.73, -2.49, 1.09, -0.34, -0.28, 1.97,...   \n",
       "1  [5.76, -1.33, -1.71, 0.63, -1.7, 0.71, -0.05, ...   \n",
       "\n",
       "                                             Z-Scale  \\\n",
       "0  [-4.44, -1.68, -1.03, -1.22, 0.88, 2.23, -4.92...   \n",
       "1  [-4.19, -1.03, -0.98, 2.88, 2.52, -3.44, 3.64,...   \n",
       "\n",
       "                                              UniRep  \n",
       "0  [-0.09122531861066818, 0.08572831749916077, 0....  \n",
       "1  [-0.1062292754650116, 0.09696033596992493, -0....  "
      ]
     },
     "metadata": {},
     "output_type": "display_data"
    },
    {
     "name": "stdout",
     "output_type": "stream",
     "text": [
      "<class 'pandas.core.frame.DataFrame'>\n",
      "RangeIndex: 4000 entries, 0 to 3999\n",
      "Data columns (total 7 columns):\n",
      " #   Column    Non-Null Count  Dtype \n",
      "---  ------    --------------  ----- \n",
      " 0   Sequence  4000 non-null   object\n",
      " 1   Label     4000 non-null   int64 \n",
      " 2   Ordinal   4000 non-null   object\n",
      " 3   One-hot   4000 non-null   object\n",
      " 4   ProtFP    4000 non-null   object\n",
      " 5   Z-Scale   4000 non-null   object\n",
      " 6   UniRep    4000 non-null   object\n",
      "dtypes: int64(1), object(6)\n",
      "memory usage: 218.9+ KB\n",
      "None\n",
      "\n",
      "Observations per label:\n",
      "0    2000\n",
      "1    2000\n",
      "Name: Label, dtype: int64\n"
     ]
    }
   ],
   "source": [
    "# Explore data.\n",
    "display(df.head(2))\n",
    "print(df.info())\n",
    "\n",
    "# Demonstrate that dataset is balanced.\n",
    "print(\"\\nObservations per label:\\n{}\".format(df.Label.value_counts()))"
   ]
  },
  {
   "cell_type": "markdown",
   "metadata": {},
   "source": [
    "## Train and test"
   ]
  },
  {
   "cell_type": "markdown",
   "metadata": {},
   "source": [
    "### Random forest"
   ]
  },
  {
   "cell_type": "code",
   "execution_count": 5,
   "metadata": {},
   "outputs": [
    {
     "name": "stdout",
     "output_type": "stream",
     "text": [
      "\n",
      "~~~~~~~~~~ Ordinal ~~~~~~~~~~\n",
      "\n",
      "Dimensions = 8\n",
      "\n",
      "Fit complete in 0.27 seconds.\n",
      "Prediction complete in 0.01 seconds.\n",
      "\n",
      "Accuracy on test set = 67.25%\n",
      "\n",
      "~~~~~~~~~~ One-hot ~~~~~~~~~~\n",
      "\n",
      "Dimensions = 160\n",
      "\n",
      "Fit complete in 0.34 seconds.\n",
      "Prediction complete in 0.02 seconds.\n",
      "\n",
      "Accuracy on test set = 73.25%\n",
      "\n",
      "~~~~~~~~~~ ProtFP ~~~~~~~~~~\n",
      "\n",
      "Dimensions = 64\n",
      "\n",
      "Fit complete in 0.59 seconds.\n",
      "Prediction complete in 0.01 seconds.\n",
      "\n",
      "Accuracy on test set = 71.12%\n",
      "\n",
      "~~~~~~~~~~ Z-Scale ~~~~~~~~~~\n",
      "\n",
      "Dimensions = 24\n",
      "\n",
      "Fit complete in 0.36 seconds.\n",
      "Prediction complete in 0.01 seconds.\n",
      "\n",
      "Accuracy on test set = 70.50%\n",
      "\n",
      "~~~~~~~~~~ UniRep ~~~~~~~~~~\n",
      "\n",
      "Dimensions = 64\n",
      "\n",
      "Fit complete in 1.34 seconds.\n",
      "Prediction complete in 0.01 seconds.\n",
      "\n",
      "Accuracy on test set = 62.88%\n"
     ]
    }
   ],
   "source": [
    "# Iterate through data representations to train and test models.\n",
    "rf = RandomForestClassifier(random_state = seed)\n",
    "rf_accuracies = iter_reps(df, rf)"
   ]
  },
  {
   "cell_type": "code",
   "execution_count": 6,
   "metadata": {},
   "outputs": [
    {
     "data": {
      "image/png": "[encoded data removed]",
      "text/plain": [
       "<Figure size 432x288 with 1 Axes>"
      ]
     },
     "metadata": {
      "needs_background": "light"
     },
     "output_type": "display_data"
    }
   ],
   "source": [
    "# Plot model accuracy by total dimensions per input representation.\n",
    "plot_acc_by_dims(rf_accuracies)"
   ]
  },
  {
   "cell_type": "markdown",
   "metadata": {},
   "source": [
    "## Support vector machine"
   ]
  },
  {
   "cell_type": "code",
   "execution_count": 7,
   "metadata": {},
   "outputs": [
    {
     "name": "stdout",
     "output_type": "stream",
     "text": [
      "\n",
      "~~~~~~~~~~ Ordinal ~~~~~~~~~~\n",
      "\n",
      "Dimensions = 8\n",
      "\n",
      "Fit complete in 0.24 seconds.\n",
      "Prediction complete in 0.08 seconds.\n",
      "\n",
      "Accuracy on test set = 58.88%\n",
      "\n",
      "~~~~~~~~~~ One-hot ~~~~~~~~~~\n",
      "\n",
      "Dimensions = 160\n",
      "\n",
      "Fit complete in 0.47 seconds.\n",
      "Prediction complete in 0.18 seconds.\n",
      "\n",
      "Accuracy on test set = 73.12%\n",
      "\n",
      "~~~~~~~~~~ ProtFP ~~~~~~~~~~\n",
      "\n",
      "Dimensions = 64\n",
      "\n",
      "Fit complete in 0.32 seconds.\n",
      "Prediction complete in 0.09 seconds.\n",
      "\n",
      "Accuracy on test set = 68.00%\n",
      "\n",
      "~~~~~~~~~~ Z-Scale ~~~~~~~~~~\n",
      "\n",
      "Dimensions = 24\n",
      "\n",
      "Fit complete in 0.29 seconds.\n",
      "Prediction complete in 0.08 seconds.\n",
      "\n",
      "Accuracy on test set = 66.75%\n",
      "\n",
      "~~~~~~~~~~ UniRep ~~~~~~~~~~\n",
      "\n",
      "Dimensions = 64\n",
      "\n",
      "Fit complete in 0.35 seconds.\n",
      "Prediction complete in 0.11 seconds.\n",
      "\n",
      "Accuracy on test set = 62.00%\n"
     ]
    }
   ],
   "source": [
    "# Iterate through data representations to train and test models.\n",
    "svm = SVC(random_state = seed)\n",
    "svm_accuracies = iter_reps(df, svm)"
   ]
  },
  {
   "cell_type": "code",
   "execution_count": 8,
   "metadata": {},
   "outputs": [
    {
     "data": {
      "image/png": "[encoded data removed]",
      "text/plain": [
       "<Figure size 432x288 with 1 Axes>"
      ]
     },
     "metadata": {
      "needs_background": "light"
     },
     "output_type": "display_data"
    }
   ],
   "source": [
    "# Plot model accuracy by total dimensions per input representation.\n",
    "plot_acc_by_dims(svm_accuracies)"
   ]
  },
  {
   "cell_type": "markdown",
   "metadata": {},
   "source": [
    "## K-nearest neighbors"
   ]
  },
  {
   "cell_type": "code",
   "execution_count": 9,
   "metadata": {},
   "outputs": [
    {
     "name": "stdout",
     "output_type": "stream",
     "text": [
      "\n",
      "~~~~~~~~~~ Ordinal ~~~~~~~~~~\n",
      "\n",
      "Dimensions = 8\n",
      "\n",
      "Fit complete in 0.00 seconds.\n",
      "Prediction complete in 0.02 seconds.\n",
      "\n",
      "Accuracy on test set = 53.12%\n",
      "\n",
      "~~~~~~~~~~ One-hot ~~~~~~~~~~\n",
      "\n",
      "Dimensions = 160\n",
      "\n",
      "Fit complete in 0.00 seconds.\n",
      "Prediction complete in 0.09 seconds.\n",
      "\n",
      "Accuracy on test set = 63.50%\n",
      "\n",
      "~~~~~~~~~~ ProtFP ~~~~~~~~~~\n",
      "\n",
      "Dimensions = 64\n",
      "\n",
      "Fit complete in 0.00 seconds.\n",
      "Prediction complete in 0.06 seconds.\n",
      "\n",
      "Accuracy on test set = 60.25%\n",
      "\n",
      "~~~~~~~~~~ Z-Scale ~~~~~~~~~~\n",
      "\n",
      "Dimensions = 24\n",
      "\n",
      "Fit complete in 0.00 seconds.\n",
      "Prediction complete in 0.07 seconds.\n",
      "\n",
      "Accuracy on test set = 57.50%\n",
      "\n",
      "~~~~~~~~~~ UniRep ~~~~~~~~~~\n",
      "\n",
      "Dimensions = 64\n",
      "\n",
      "Fit complete in 0.00 seconds.\n",
      "Prediction complete in 0.07 seconds.\n",
      "\n",
      "Accuracy on test set = 58.25%\n"
     ]
    }
   ],
   "source": [
    "# Iterate through data representations to train and test models.\n",
    "knn = KNeighborsClassifier()\n",
    "knn_accuracies = iter_reps(df, knn)"
   ]
  },
  {
   "cell_type": "code",
   "execution_count": 10,
   "metadata": {},
   "outputs": [
    {
     "data": {
      "image/png": "[encoded data removed]",
      "text/plain": [
       "<Figure size 432x288 with 1 Axes>"
      ]
     },
     "metadata": {
      "needs_background": "light"
     },
     "output_type": "display_data"
    }
   ],
   "source": [
    "# Plot model accuracy by total dimensions per input representation.\n",
    "plot_acc_by_dims(knn_accuracies)"
   ]
  },
  {
   "cell_type": "markdown",
   "metadata": {},
   "source": [
    "## Interpretation"
   ]
  },
  {
   "cell_type": "markdown",
   "metadata": {},
   "source": [
    "Counter-intuitively, the one-hot encoding conferred superior accuracy for all three algorithms tested. This is might come as a surprise, given that it contains no biological information within itself and most dimensions are zero-valued. "
   ]
  },
  {
   "cell_type": "code",
   "execution_count": null,
   "metadata": {},
   "outputs": [],
   "source": []
  }
 ],
 "metadata": {
  "kernelspec": {
   "display_name": "Python 3",
   "language": "python",
   "name": "python3"
  },
  "language_info": {
   "codemirror_mode": {
    "name": "ipython",
    "version": 3
   },
   "file_extension": ".py",
   "mimetype": "text/x-python",
   "name": "python",
   "nbconvert_exporter": "python",
   "pygments_lexer": "ipython3",
   "version": "3.9.0"
  }
 },
 "nbformat": 4,
 "nbformat_minor": 4
}
